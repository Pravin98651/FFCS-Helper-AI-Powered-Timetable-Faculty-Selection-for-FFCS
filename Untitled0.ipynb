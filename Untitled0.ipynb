{
  "cells": [
    {
      "cell_type": "markdown",
      "metadata": {
        "id": "view-in-github",
        "colab_type": "text"
      },
      "source": [
        "<a href=\"https://colab.research.google.com/github/Pravin98651/FFCS-Helper-AI-Powered-Timetable-Faculty-Selection-for-FFCS/blob/main/Untitled0.ipynb\" target=\"_parent\"><img src=\"https://colab.research.google.com/assets/colab-badge.svg\" alt=\"Open In Colab\"/></a>"
      ]
    },
    {
      "cell_type": "code",
      "execution_count": null,
      "metadata": {
        "colab": {
          "base_uri": "https://localhost:8080/"
        },
        "id": "R70_9hBV6Ks7",
        "outputId": "b4481f59-526f-4a3a-8bd8-3a77e7d1c48f"
      },
      "outputs": [
        {
          "name": "stdout",
          "output_type": "stream",
          "text": [
            "\u001b[31mERROR: Operation cancelled by user\u001b[0m\u001b[31m\n",
            "\u001b[0m"
          ]
        }
      ],
      "source": [
        "! pip install streamlit -q"
      ]
    },
    {
      "cell_type": "code",
      "execution_count": null,
      "metadata": {
        "colab": {
          "base_uri": "https://localhost:8080/"
        },
        "id": "wiCqGSKJ46R0",
        "outputId": "d5bcd423-7281-4114-9a26-93e7c781fc4b"
      },
      "outputs": [
        {
          "name": "stdout",
          "output_type": "stream",
          "text": [
            "35.231.138.202\n"
          ]
        }
      ],
      "source": [
        "!wget -q -O - ipv4.icanhazip.com\n"
      ]
    },
    {
      "cell_type": "code",
      "execution_count": null,
      "metadata": {
        "id": "cSKkjcQv5Od7"
      },
      "outputs": [],
      "source": [
        "!pip install streamlit pyngrok\n"
      ]
    },
    {
      "cell_type": "code",
      "execution_count": null,
      "metadata": {
        "colab": {
          "base_uri": "https://localhost:8080/"
        },
        "id": "icUFJ0hQ8jOJ",
        "outputId": "ce2345a1-1627-419a-c151-35acee3b7efc"
      },
      "outputs": [
        {
          "name": "stdout",
          "output_type": "stream",
          "text": [
            "Overwriting app.py\n"
          ]
        }
      ],
      "source": [
        "%%writefile app.py\n",
        "import streamlit as st\n",
        "import pandas as pd\n",
        "import numpy as np\n",
        "import pickle\n",
        "import os\n",
        "\n",
        "# Google Drive Path\n",
        "model_path = '/content/drive/My Drive/FFCS_Helper_Models/'\n",
        "categories = ['Teaching', 'Lenient', 'DA and Quiz', 'Marking']\n",
        "\n",
        "# Load Models and Scaler\n",
        "models = {}\n",
        "for category in categories:\n",
        "    with open(os.path.join(model_path, f\"{category}_model.pkl\"), 'rb') as file:\n",
        "        models[category] = pickle.load(file)\n",
        "\n",
        "with open(os.path.join(model_path, 'scaler.pkl'), 'rb') as file:\n",
        "    scaler = pickle.load(file)\n",
        "\n",
        "st.title(\"🎓 FFCS Helper - Faculty Prediction Tool\")\n",
        "st.write(\"Select your preferences and get the best faculty predictions!\")\n",
        "\n",
        "# File Upload\n",
        "uploaded_file = st.file_uploader(\"Upload Faculty Data (CSV)\", type=[\"csv\"])\n",
        "if uploaded_file is not None:\n",
        "    df = pd.read_csv(uploaded_file)\n",
        "    st.write(\"### Data Preview\")\n",
        "    st.dataframe(df.head())\n",
        "\n",
        "    # Student Preferences\n",
        "    st.write(\"### Set Your Preferences (0-10)\")\n",
        "    student_prefs = {}\n",
        "    for category in categories:\n",
        "        student_prefs[category] = st.slider(f\"{category} Preference\", 0.0, 10.0, 5.0)\n",
        "\n",
        "    # Faculty Selection\n",
        "    st.write(\"### Select Faculty IDs for Prediction\")\n",
        "    faculty_list = st.multiselect(\"Available Faculty IDs\", df['EmpId'].tolist())\n",
        "\n",
        "    def predict_best_faculty(faculty_list, student_prefs):\n",
        "        \"\"\"\n",
        "        Predicts and ranks faculties based on different rating categories and student preferences.\n",
        "        Returns:\n",
        "        - Best faculty for each category (Teaching, Lenient, DA and Quiz, Marking).\n",
        "        - Overall best faculty based on student preferences.\n",
        "        - Full ranked list of faculties.\n",
        "        \"\"\"\n",
        "        filtered_faculty = df[df['EmpId'].isin(faculty_list)].copy()\n",
        "\n",
        "        if filtered_faculty.empty:\n",
        "            return {\"message\": \"Prediction not available. No faculty found in the given list.\"}\n",
        "\n",
        "        faculty_features = filtered_faculty.drop(columns=['EmpId'])\n",
        "        faculty_features_scaled = scaler.transform(faculty_features)\n",
        "        predicted_scores = {cat: models[cat].predict(faculty_features_scaled) for cat in categories}\n",
        "\n",
        "        for cat in categories:\n",
        "            filtered_faculty[f\"Predicted_{cat}\"] = predicted_scores[cat]\n",
        "\n",
        "        best_faculty_per_category = {\n",
        "            category: filtered_faculty.loc[filtered_faculty[f\"Predicted_{category}\"].idxmax(), ['EmpId', f\"Predicted_{category}\"]].to_dict()\n",
        "            for category in categories\n",
        "        }\n",
        "\n",
        "        weight_vector = np.array([student_prefs.get(feature, 1) for feature in categories])\n",
        "        weight_vector = weight_vector / weight_vector.sum()\n",
        "        faculty_characteristics = filtered_faculty[[f\"Predicted_{cat}\" for cat in categories]].values\n",
        "        custom_scores = np.dot(faculty_characteristics, weight_vector)\n",
        "        filtered_faculty[\"Custom_Score\"] = custom_scores\n",
        "        ranked_faculty = filtered_faculty.sort_values(by=\"Custom_Score\", ascending=False)\n",
        "        best_overall_faculty = ranked_faculty.iloc[0][['EmpId', 'Custom_Score']].to_dict()\n",
        "\n",
        "        return {\n",
        "            \"best_per_category\": best_faculty_per_category,\n",
        "            \"overall_best_faculty\": best_overall_faculty,\n",
        "            \"ranked_faculties\": ranked_faculty[['EmpId', 'Custom_Score']].to_dict(orient='records')\n",
        "        }\n",
        "\n",
        "    if st.button(\"Predict Best Faculty\"):\n",
        "        result = predict_best_faculty(faculty_list, student_prefs)\n",
        "\n",
        "        if \"message\" in result:\n",
        "            st.error(result[\"message\"])\n",
        "        else:\n",
        "            st.write(\"### Best Faculty Per Category\")\n",
        "            for category, faculty in result[\"best_per_category\"].items():\n",
        "                st.write(f\"**{category}**: Faculty {faculty['EmpId']} (Score: {faculty[f'Predicted_{category}']:.2f})\")\n",
        "\n",
        "            st.write(\"### 🏆 Overall Best Faculty\")\n",
        "            st.write(f\"Faculty {result['overall_best_faculty']['EmpId']} (Custom Score: {result['overall_best_faculty']['Custom_Score']:.2f})\")\n",
        "\n",
        "            st.write(\"### 📜 Full Faculty Ranking\")\n",
        "            for faculty in result[\"ranked_faculties\"]:\n",
        "                st.write(f\"Faculty {faculty['EmpId']} - Score: {faculty['Custom_Score']:.2f}\")\n"
      ]
    },
    {
      "cell_type": "code",
      "execution_count": null,
      "metadata": {
        "colab": {
          "background_save": true,
          "base_uri": "https://localhost:8080/"
        },
        "id": "eZ-H9_c38usH",
        "outputId": "adabf9ab-a26b-4a48-f781-c40146e79742"
      },
      "outputs": [
        {
          "name": "stdout",
          "output_type": "stream",
          "text": [
            "\n",
            "Collecting usage statistics. To deactivate, set browser.gatherUsageStats to false.\n",
            "\u001b[0m\n",
            "\u001b[1G\u001b[0K⠙\u001b[1G\u001b[0K⠹\u001b[0m\n",
            "\u001b[34m\u001b[1m  You can now view your Streamlit app in your browser.\u001b[0m\n",
            "\u001b[0m\n",
            "\u001b[34m  Local URL: \u001b[0m\u001b[1mhttp://localhost:8501\u001b[0m\n",
            "\u001b[34m  Network URL: \u001b[0m\u001b[1mhttp://172.28.0.12:8501\u001b[0m\n",
            "\u001b[34m  External URL: \u001b[0m\u001b[1mhttp://35.231.138.202:8501\u001b[0m\n",
            "\u001b[0m\n",
            "\u001b[1G\u001b[0K⠸\u001b[1G\u001b[0K⠼\u001b[1G\u001b[0K⠴\u001b[1G\u001b[0K⠦\u001b[1G\u001b[0Kyour url is: https://funny-symbols-camp.loca.lt\n",
            "2025-03-12 06:34:29.801 Uncaught app execution\n",
            "Traceback (most recent call last):\n",
            "  File \"/usr/local/lib/python3.11/dist-packages/streamlit/runtime/scriptrunner/exec_code.py\", line 121, in exec_func_with_error_handling\n",
            "    result = func()\n",
            "             ^^^^^^\n",
            "  File \"/usr/local/lib/python3.11/dist-packages/streamlit/runtime/scriptrunner/script_runner.py\", line 593, in code_to_exec\n",
            "    exec(code, module.__dict__)\n",
            "  File \"/content/app.py\", line 14, in <module>\n",
            "    with open(os.path.join(model_path, f\"{category}_model.pkl\"), 'rb') as file:\n",
            "         ^^^^^^^^^^^^^^^^^^^^^^^^^^^^^^^^^^^^^^^^^^^^^^^^^^^^^^^^^^^^^\n",
            "FileNotFoundError: [Errno 2] No such file or directory: '/content/drive/My Drive/FFCS_Helper_Models/Teaching_model.pkl'\n"
          ]
        }
      ],
      "source": [
        "! streamlit run app.py & npx localtunnel --port 8501"
      ]
    }
  ],
  "metadata": {
    "colab": {
      "provenance": [],
      "authorship_tag": "ABX9TyOkr0WlVLrE+wYF2I9OHRkg",
      "include_colab_link": true
    },
    "kernelspec": {
      "display_name": "Python 3",
      "name": "python3"
    },
    "language_info": {
      "name": "python"
    }
  },
  "nbformat": 4,
  "nbformat_minor": 0
}