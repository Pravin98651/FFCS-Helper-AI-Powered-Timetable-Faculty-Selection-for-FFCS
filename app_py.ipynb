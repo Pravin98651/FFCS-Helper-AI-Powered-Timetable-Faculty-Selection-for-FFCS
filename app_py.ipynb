{
  "nbformat": 4,
  "nbformat_minor": 0,
  "metadata": {
    "colab": {
      "provenance": [],
      "authorship_tag": "ABX9TyPz6WsUPLkNB3hu0lYNL6Hf",
      "include_colab_link": true
    },
    "kernelspec": {
      "name": "python3",
      "display_name": "Python 3"
    },
    "language_info": {
      "name": "python"
    }
  },
  "cells": [
    {
      "cell_type": "markdown",
      "metadata": {
        "id": "view-in-github",
        "colab_type": "text"
      },
      "source": [
        "<a href=\"https://colab.research.google.com/github/Pravin98651/FFCS-Helper-AI-Powered-Timetable-Faculty-Selection-for-FFCS/blob/main/app_py.ipynb\" target=\"_parent\"><img src=\"https://colab.research.google.com/assets/colab-badge.svg\" alt=\"Open In Colab\"/></a>"
      ]
    },
    {
      "cell_type": "code",
      "execution_count": 25,
      "metadata": {
        "colab": {
          "base_uri": "https://localhost:8080/"
        },
        "id": "3X5nlBKl0Jzo",
        "outputId": "017eebf2-7c83-4f04-ed96-d339068ad194"
      },
      "outputs": [
        {
          "output_type": "stream",
          "name": "stderr",
          "text": [
            "2025-03-11 06:33:08.117 Thread 'MainThread': missing ScriptRunContext! This warning can be ignored when running in bare mode.\n",
            "2025-03-11 06:33:08.118 Thread 'MainThread': missing ScriptRunContext! This warning can be ignored when running in bare mode.\n",
            "2025-03-11 06:33:08.120 Thread 'MainThread': missing ScriptRunContext! This warning can be ignored when running in bare mode.\n",
            "2025-03-11 06:33:08.121 Thread 'MainThread': missing ScriptRunContext! This warning can be ignored when running in bare mode.\n",
            "2025-03-11 06:33:08.121 Thread 'MainThread': missing ScriptRunContext! This warning can be ignored when running in bare mode.\n",
            "2025-03-11 06:33:08.122 Thread 'MainThread': missing ScriptRunContext! This warning can be ignored when running in bare mode.\n",
            "2025-03-11 06:33:08.123 Thread 'MainThread': missing ScriptRunContext! This warning can be ignored when running in bare mode.\n"
          ]
        },
        {
          "output_type": "stream",
          "name": "stdout",
          "text": [
            "Drive already mounted at /content/drive; to attempt to forcibly remount, call drive.mount(\"/content/drive\", force_remount=True).\n"
          ]
        }
      ],
      "source": [
        "import streamlit as st\n",
        "import pandas as pd\n",
        "import numpy as np\n",
        "import pickle\n",
        "import os\n",
        "from google.colab import drive\n",
        "from sklearn.ensemble import RandomForestRegressor\n",
        "from sklearn.model_selection import train_test_split\n",
        "from sklearn.preprocessing import StandardScaler, OneHotEncoder\n",
        "\n",
        "# Mount Google Drive\n",
        "drive.mount('/content/drive')\n",
        "\n",
        "# Directory to save and load models\n",
        "model_path = '/content/drive/My Drive/FFCS_Helper_Models/'\n",
        "os.makedirs(model_path, exist_ok=True)\n",
        "\n",
        "st.title(\"📅 FFCS Helper - Faculty Prediction and Timetable Optimization\")\n",
        "\n",
        "# Upload the CSV file\n",
        "uploaded_file = st.file_uploader(\"Upload Faculty Data CSV\", type=[\"csv\"])\n",
        "if uploaded_file:\n",
        "    df = pd.read_csv(uploaded_file)\n",
        "    st.write(\"### Faculty Data Preview\")\n",
        "    st.dataframe(df.head())\n",
        "\n",
        "    # Data Preprocessing\n",
        "    st.write(\"🔄 Data Preprocessing...\")\n",
        "    encoder = OneHotEncoder(sparse_output=False)\n",
        "    dept_encoded = encoder.fit_transform(df[['Department']])\n",
        "    dept_columns = encoder.get_feature_names_out(['Department'])\n",
        "    df_dept = pd.DataFrame(dept_encoded, columns=dept_columns)\n",
        "    df = pd.concat([df.drop('Department', axis=1), df_dept], axis=1)\n",
        "\n",
        "    X = df.drop(columns=['EmpId'])\n",
        "    y = df[['Teaching', 'Lenient', 'DA and Quiz', 'Marking']]\n",
        "    X_train, X_test, y_train, y_test = train_test_split(X, y, test_size=0.2, random_state=42)\n",
        "\n",
        "    # Scaling\n",
        "    scaler = StandardScaler()\n",
        "    X_train = scaler.fit_transform(X_train)\n",
        "    X_test = scaler.transform(X_test)\n",
        "\n",
        "    # Train or Load Models\n",
        "    models = {}\n",
        "    categories = ['Teaching', 'Lenient', 'DA and Quiz', 'Marking']\n",
        "    if not os.listdir(model_path):\n",
        "        st.write(\"🚀 Training Models...\")\n",
        "        for category in categories:\n",
        "            model = RandomForestRegressor(n_estimators=100, random_state=42)\n",
        "            model.fit(X_train, y_train[category])\n",
        "            models[category] = model\n",
        "            with open(os.path.join(model_path, f\"{category}_model.pkl\"), 'wb') as file:\n",
        "                pickle.dump(model, file)\n",
        "        with open(os.path.join(model_path, 'scaler.pkl'), 'wb') as file:\n",
        "            pickle.dump(scaler, file)\n",
        "        st.success(\"✅ Models Trained and Saved Successfully\")\n",
        "    else:\n",
        "        st.write(\"📂 Loading Models from Google Drive...\")\n",
        "        for category in categories:\n",
        "            with open(os.path.join(model_path, f\"{category}_model.pkl\"), 'rb') as file:\n",
        "                models[category] = pickle.load(file)\n",
        "        with open(os.path.join(model_path, 'scaler.pkl'), 'rb') as file:\n",
        "            scaler = pickle.load(file)\n",
        "        st.success(\"✅ Models Loaded Successfully\")\n",
        "\n",
        "    # Predict Best Faculty\n",
        "    st.header(\"🔍 Predict Best Faculty\")\n",
        "    faculty_list = st.text_input(\"Enter Faculty IDs (comma separated):\")\n",
        "    prefs = {\n",
        "        'Teaching': st.slider(\"Teaching Preference\", 0.0, 10.0, 7.0),\n",
        "        'Lenient': st.slider(\"Lenient Preference\", 0.0, 10.0, 7.0),\n",
        "        'DA and Quiz': st.slider(\"DA and Quiz Preference\", 0.0, 10.0, 7.0),\n",
        "        'Marking': st.slider(\"Marking Preference\", 0.0, 10.0, 7.0)\n",
        "    }\n",
        "\n",
        "    if st.button(\"Predict Best Faculty\"):\n",
        "        if faculty_list:\n",
        "            faculty_list = [int(x.strip()) for x in faculty_list.split(',')]\n",
        "            filtered_faculty = df[df['EmpId'].isin(faculty_list)].copy()\n",
        "\n",
        "            if filtered_faculty.empty:\n",
        "                st.warning(\"Prediction not available. No faculty found in the given list.\")\n",
        "            else:\n",
        "                faculty_features = filtered_faculty.drop(columns=['EmpId'])\n",
        "                faculty_features_scaled = scaler.transform(faculty_features)\n",
        "                predicted_scores = {cat: models[cat].predict(faculty_features_scaled) for cat in categories}\n",
        "                for cat in categories:\n",
        "                    filtered_faculty[f\"Predicted_{cat}\"] = predicted_scores[cat]\n",
        "\n",
        "                best_faculty_per_category = {\n",
        "                    category: filtered_faculty.loc[filtered_faculty[f\"Predicted_{category}\"].idxmax(), ['EmpId', f\"Predicted_{category}\"]].to_dict()\n",
        "                    for category in categories\n",
        "                }\n",
        "\n",
        "                weight_vector = np.array([prefs.get(feature, 1) for feature in categories])\n",
        "                weight_vector = weight_vector / weight_vector.sum()\n",
        "                faculty_characteristics = filtered_faculty[[f\"Predicted_{cat}\" for cat in categories]].values\n",
        "                custom_scores = np.dot(faculty_characteristics, weight_vector)\n",
        "                filtered_faculty[\"Custom_Score\"] = custom_scores\n",
        "                ranked_faculty = filtered_faculty.sort_values(by=\"Custom_Score\", ascending=False)\n",
        "                best_overall_faculty = ranked_faculty.iloc[0][['EmpId', 'Custom_Score']].to_dict()\n",
        "\n",
        "                st.subheader(\"🏆 Best Faculty Per Category\")\n",
        "                for category, faculty in best_faculty_per_category.items():\n",
        "                    st.write(f\"**{category}**: Faculty {faculty['EmpId']} (Score: {faculty[f'Predicted_{category}']:.2f})\")\n",
        "\n",
        "                st.subheader(\"🌟 Overall Best Faculty\")\n",
        "                st.write(f\"**Faculty {best_overall_faculty['EmpId']}** (Custom Score: {best_overall_faculty['Custom_Score']:.2f})\")\n",
        "\n",
        "                st.subheader(\"📋 Full Faculty Ranking\")\n",
        "                st.dataframe(ranked_faculty[['EmpId', 'Custom_Score']])\n",
        "\n",
        "        else:\n",
        "            st.error(\"Please enter valid faculty IDs.\")\n",
        "\n",
        "    # Timetable Optimization\n",
        "    st.header(\"🗓️ Timetable Optimization\")\n",
        "    course_type = st.selectbox(\"Select Course Type\", [\"Theory + Lab\", \"Theory Only\", \"Lab Only\"])\n",
        "    if course_type == \"Theory + Lab\":\n",
        "        theory_slots = st.text_input(\"Enter Theory Slots (comma separated):\")\n",
        "        lab_slots = st.text_input(\"Enter Lab Slots (comma separated):\")\n",
        "    elif course_type == \"Theory Only\":\n",
        "        theory_slots = st.text_input(\"Enter Theory Slots (comma separated):\")\n",
        "        lab_slots = \"\"\n",
        "    elif course_type == \"Lab Only\":\n",
        "        theory_slots = \"\"\n",
        "        lab_slots = st.text_input(\"Enter Lab Slots (comma separated):\")\n",
        "\n",
        "\n",
        "    if st.button(\"Generate Timetable\"):\n",
        "        if (course_type in [\"Theory + Lab\", \"Theory Only\"] and not theory_slots) or (course_type in [\"Theory + Lab\", \"Lab Only\"] and not lab_slots):\n",
        "            st.error(\"Please enter the required slots.\")\n",
        "        else:\n",
        "            st.success(\"✅ Timetable Generated Successfully!\")\n",
        "            st.write(f\"Course Type: {course_type}\")\n",
        "            if theory_slots:\n",
        "                st.write(f\"Theory Slots: {theory_slots}\")\n",
        "            if lab_slots:\n",
        "                st.write(f\"Lab Slots: {lab_slots}\")\n"
      ]
    },
    {
      "cell_type": "code",
      "source": [
        "! pip install streamlit -q"
      ],
      "metadata": {
        "id": "LXLNeabZ7jxd"
      },
      "execution_count": 26,
      "outputs": []
    }
  ]
}